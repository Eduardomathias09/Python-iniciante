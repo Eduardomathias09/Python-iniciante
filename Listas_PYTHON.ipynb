{
  "nbformat": 4,
  "nbformat_minor": 0,
  "metadata": {
    "colab": {
      "name": "Listas - PYTHON.ipynb",
      "provenance": [],
      "authorship_tag": "ABX9TyP8q82lhlhsRED2ZVsF6J2h",
      "include_colab_link": true
    },
    "kernelspec": {
      "name": "python3",
      "display_name": "Python 3"
    },
    "language_info": {
      "name": "python"
    }
  },
  "cells": [
    {
      "cell_type": "markdown",
      "metadata": {
        "id": "view-in-github",
        "colab_type": "text"
      },
      "source": [
        "<a href=\"https://colab.research.google.com/github/Eduardomathias09/Python-iniciante/blob/main/Listas_PYTHON.ipynb\" target=\"_parent\"><img src=\"https://colab.research.google.com/assets/colab-badge.svg\" alt=\"Open In Colab\"/></a>"
      ]
    },
    {
      "cell_type": "code",
      "metadata": {
        "colab": {
          "base_uri": "https://localhost:8080/"
        },
        "id": "AaxFV-vX9uKt",
        "outputId": "90b5fe7d-70d5-4554-c98e-cd1df620a6f7"
      },
      "source": [
        "#COMO EU DECLARO UMA LISTA \n",
        "numero = [] #EU TENHO UMA LISTA VAZIA\n",
        "numeros = [10, 8, 99, 1523, -1, -5]\n",
        "numeros2 = [11, 1.8, 19, 1.5, 1.3]\n",
        "lista = [10, 'nome', 1.8, True]\n",
        "\n",
        "#LISTAS SÃO MUTÁVEIS\n",
        "nomes = ['João', 'Maria', 'Priscila', 'Gustavo']\n",
        "#        [   0      1          2           3    ]\n",
        " #       [  -4     -3         -2          -1    ]\n",
        "nomes [-1]\n",
        "\n",
        "nomes.append('Pedro')\n",
        "\n",
        "nomes.insert(0, 'Tereza')\n",
        "\n",
        "#nomes = ['Tereza, 'João', 'Maria', 'Priscila', 'Gustavo', 'Pedro']\n",
        "\n",
        "nomes [2] = 'Valdir'\n",
        "\n",
        "nomes \n",
        "\n",
        "nomes.reverse()\n",
        "\n",
        "nomes\n",
        "# ['Pedro', 'Gustavo', 'Valdir', 'João', 'Tereza']\n",
        "nomes[1:]\n",
        "nomes[1:3]\n",
        "nomes[1:-1]\n",
        "nomes[:-1]\n",
        "nomes[:]\n",
        "nomes[::-1]\n",
        "nomes[:: 2]\n",
        "'Gustavo' in nomes    #Está na lista? 'True'\n",
        "'Gustavo' not in nomes   #Não estão na lista? 'False'\n",
        "'Valeria' in nomes   #Está na lista? 'False'\n",
        "verifica = 'valeria' in nomes\n",
        "type(verifica)\n",
        "\n",
        "del nomes[-1]\n",
        "nomes\n",
        "nomes.pop()\n",
        "nomes\n",
        "dir(nomes)\n",
        "\n",
        "numeros = [9, 5, 2, 7, 3, 4, 1, 0]\n",
        "numeros.sort()\n",
        "\n",
        "numeros.reverse()\n",
        "\n",
        "numeros"
      ],
      "execution_count": 1,
      "outputs": [
        {
          "output_type": "execute_result",
          "data": {
            "text/plain": [
              "[9, 7, 5, 4, 3, 2, 1, 0]"
            ]
          },
          "metadata": {},
          "execution_count": 1
        }
      ]
    }
  ]
}