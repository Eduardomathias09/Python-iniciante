{
  "nbformat": 4,
  "nbformat_minor": 0,
  "metadata": {
    "colab": {
      "name": "Aula-Python-Iniciante-03.ipynb",
      "provenance": [],
      "authorship_tag": "ABX9TyNNOaS19VScyTmssz4etF4T",
      "include_colab_link": true
    },
    "kernelspec": {
      "name": "python3",
      "display_name": "Python 3"
    },
    "language_info": {
      "name": "python"
    }
  },
  "cells": [
    {
      "cell_type": "markdown",
      "metadata": {
        "id": "view-in-github",
        "colab_type": "text"
      },
      "source": [
        "<a href=\"https://colab.research.google.com/github/Eduardomathias09/Python-iniciante/blob/main/Aula_Python_Iniciante_03.ipynb\" target=\"_parent\"><img src=\"https://colab.research.google.com/assets/colab-badge.svg\" alt=\"Open In Colab\"/></a>"
      ]
    },
    {
      "cell_type": "code",
      "metadata": {
        "colab": {
          "base_uri": "https://localhost:8080/",
          "height": 91
        },
        "id": "3LOh_Cx1CG7U",
        "outputId": "7fe9e3fb-7805-4aae-a27b-a86c4d181674"
      },
      "source": [
        "print('Questão 1:')\n",
        "\n",
        "nome = input('Digite um nome: ')\n",
        "\n",
        "print(nome)\n",
        "\n",
        "nome[:4]\n"
      ],
      "execution_count": 5,
      "outputs": [
        {
          "output_type": "stream",
          "name": "stdout",
          "text": [
            "Questão 1:\n",
            "Digite um nome: Eduardo\n",
            "Eduardo\n"
          ]
        },
        {
          "output_type": "execute_result",
          "data": {
            "application/vnd.google.colaboratory.intrinsic+json": {
              "type": "string"
            },
            "text/plain": [
              "'Edua'"
            ]
          },
          "metadata": {},
          "execution_count": 5
        }
      ]
    },
    {
      "cell_type": "code",
      "source": [
        "print('Questão 2:')\n",
        "\n",
        "nome = 'Eduardo Henrique Nobrega Mathias'\n",
        "print(nome)\n",
        "\n",
        "print('Esse nome contem: ',len(nome.replace(' ','')),'caracteres sem os espaços !')\n"
      ],
      "metadata": {
        "colab": {
          "base_uri": "https://localhost:8080/"
        },
        "id": "5VSWsFw3nOta",
        "outputId": "3c69b65b-6911-4750-b677-059976d80ee2"
      },
      "execution_count": 6,
      "outputs": [
        {
          "output_type": "stream",
          "name": "stdout",
          "text": [
            "Questão 2:\n",
            "Eduardo Henrique Nobrega Mathias\n",
            "Esse nome contem:  29 caracteres sem os espaços !\n"
          ]
        }
      ]
    },
    {
      "cell_type": "code",
      "metadata": {
        "colab": {
          "base_uri": "https://localhost:8080/"
        },
        "id": "ZxMJWq0DIuZ-",
        "outputId": "82202aae-3c19-41be-9faa-2f25e9668cbc"
      },
      "source": [
        "print('Questão 3:')\n",
        "frase = 'Levei meu cachorro para passear'\n",
        "\n",
        "'cachorro' in frase "
      ],
      "execution_count": 7,
      "outputs": [
        {
          "output_type": "stream",
          "name": "stdout",
          "text": [
            "Questão 3:\n"
          ]
        },
        {
          "output_type": "execute_result",
          "data": {
            "text/plain": [
              "True"
            ]
          },
          "metadata": {},
          "execution_count": 7
        }
      ]
    }
  ]
}