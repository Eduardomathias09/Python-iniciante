{
  "nbformat": 4,
  "nbformat_minor": 0,
  "metadata": {
    "colab": {
      "name": "Aula-Python-Iniciante-06.ipynb",
      "provenance": [],
      "authorship_tag": "ABX9TyOSZwBNx2Qll0VMltHxFjXO",
      "include_colab_link": true
    },
    "kernelspec": {
      "name": "python3",
      "display_name": "Python 3"
    },
    "language_info": {
      "name": "python"
    }
  },
  "cells": [
    {
      "cell_type": "markdown",
      "metadata": {
        "id": "view-in-github",
        "colab_type": "text"
      },
      "source": [
        "<a href=\"https://colab.research.google.com/github/Eduardomathias09/Python-iniciante/blob/main/Aula_Python_Iniciante_06.ipynb\" target=\"_parent\"><img src=\"https://colab.research.google.com/assets/colab-badge.svg\" alt=\"Open In Colab\"/></a>"
      ]
    },
    {
      "cell_type": "code",
      "metadata": {
        "id": "PAMDVcRZu8HE"
      },
      "source": [
        "#ATRIBUIÇÃO SIMPLES \n",
        " \n",
        "n1 = 10 \n",
        "nome = 'Pedro'\n",
        "salario = 1100.90\n",
        "comissoes = 5800.01\n",
        "flag = True \n",
        " "
      ],
      "execution_count": 8,
      "outputs": []
    },
    {
      "cell_type": "code",
      "metadata": {
        "colab": {
          "base_uri": "https://localhost:8080/"
        },
        "id": "3Qvg9N-QvaBr",
        "outputId": "bae4cf64-7f0d-4508-bb5e-beca243a834f"
      },
      "source": [
        "#ATRIBUIÇÃO COM SOMA \n",
        "numero = 100\n",
        "\n",
        "numero = numero + 10\n",
        "\n",
        "numero += 10\n",
        "\n",
        "print(numero)"
      ],
      "execution_count": 9,
      "outputs": [
        {
          "output_type": "stream",
          "name": "stdout",
          "text": [
            "120\n"
          ]
        }
      ]
    },
    {
      "cell_type": "code",
      "metadata": {
        "colab": {
          "base_uri": "https://localhost:8080/"
        },
        "id": "v_taW0EXvY63",
        "outputId": "430e956c-7665-416f-e0e6-f0fd9ef7b3a3"
      },
      "source": [
        "#ATRIBUIÇÃO COM SUBTRAÇÃO \n",
        "\n",
        "numero = 100\n",
        "\n",
        "numero = numero - 10\n",
        "numero -= 10\n",
        "\n",
        "print(numero)"
      ],
      "execution_count": 3,
      "outputs": [
        {
          "output_type": "stream",
          "name": "stdout",
          "text": [
            "80\n"
          ]
        }
      ]
    },
    {
      "cell_type": "code",
      "metadata": {
        "colab": {
          "base_uri": "https://localhost:8080/"
        },
        "id": "2uQja8x9wrSb",
        "outputId": "78bf1ab8-584e-4fcf-a1e3-71fe6400e22b"
      },
      "source": [
        "#ATRIBUIÇÃO COM MULTIPLICAÇÃO \n",
        "numero = 10 \n",
        "numero = numero * 10\n",
        "numero *= 10\n",
        "\n",
        "print(numero)"
      ],
      "execution_count": 4,
      "outputs": [
        {
          "output_type": "stream",
          "name": "stdout",
          "text": [
            "1000\n"
          ]
        }
      ]
    },
    {
      "cell_type": "code",
      "metadata": {
        "colab": {
          "base_uri": "https://localhost:8080/"
        },
        "id": "VYd4yRZTwvQC",
        "outputId": "b25022e5-d8a8-46bc-e420-bc81362cfb11"
      },
      "source": [
        "#ATRIBUIÇÃO COM DIVISÃO\n",
        "numero = 1000\n",
        "numero = numero / 10\n",
        "numero /= 10\n",
        "\n",
        "print(numero)"
      ],
      "execution_count": 5,
      "outputs": [
        {
          "output_type": "stream",
          "name": "stdout",
          "text": [
            "10.0\n"
          ]
        }
      ]
    },
    {
      "cell_type": "code",
      "metadata": {
        "colab": {
          "base_uri": "https://localhost:8080/"
        },
        "id": "JsrO-U0Mx2Du",
        "outputId": "16bcf700-0bf6-4b26-a6fe-d5601347fc04"
      },
      "source": [
        "#ATRIBUIÇÃO COM MÓDULO \n",
        "numero = 1000\n",
        "numero = numero % 10\n",
        "numero %= 10\n",
        "\n",
        "print(numero)"
      ],
      "execution_count": 6,
      "outputs": [
        {
          "output_type": "stream",
          "name": "stdout",
          "text": [
            "0\n"
          ]
        }
      ]
    },
    {
      "cell_type": "code",
      "metadata": {
        "colab": {
          "base_uri": "https://localhost:8080/"
        },
        "id": "PSwSby5_x2J0",
        "outputId": "f960cea8-5e9e-409c-838a-c665985293eb"
      },
      "source": [
        "#ATRIBUIÇÃO COM EXPONENCIAÇÃO \n",
        "numero = 10\n",
        "numero = numero ** 2\n",
        "numero **= 2\n",
        "\n",
        "print(numero)"
      ],
      "execution_count": 7,
      "outputs": [
        {
          "output_type": "stream",
          "name": "stdout",
          "text": [
            "10000\n"
          ]
        }
      ]
    }
  ]
}
