{
  "nbformat": 4,
  "nbformat_minor": 0,
  "metadata": {
    "colab": {
      "name": "Aula-Python-Iniciante-05.ipynb",
      "provenance": [],
      "collapsed_sections": [],
      "authorship_tag": "ABX9TyMbDZoZrw/CVMXTnPGw9We1",
      "include_colab_link": true
    },
    "kernelspec": {
      "name": "python3",
      "display_name": "Python 3"
    },
    "language_info": {
      "name": "python"
    }
  },
  "cells": [
    {
      "cell_type": "markdown",
      "metadata": {
        "id": "view-in-github",
        "colab_type": "text"
      },
      "source": [
        "<a href=\"https://colab.research.google.com/github/Eduardomathias09/Python-iniciante/blob/main/Aula_Python_Iniciante_05.ipynb\" target=\"_parent\"><img src=\"https://colab.research.google.com/assets/colab-badge.svg\" alt=\"Open In Colab\"/></a>"
      ]
    },
    {
      "cell_type": "code",
      "metadata": {
        "id": "xmguyVLPHLSu"
      },
      "source": [
        ""
      ],
      "execution_count": null,
      "outputs": []
    },
    {
      "cell_type": "code",
      "metadata": {
        "colab": {
          "base_uri": "https://localhost:8080/",
          "height": 52
        },
        "id": "RqiyEFnlx1qY",
        "outputId": "168ec585-bbe9-4bc6-8be2-6955fcca6504"
      },
      "source": [
        "#STRING\n",
        "\n",
        "nome = 'Patricia Alves dos Santos'\n",
        "\n",
        "nome [:10]\n",
        "\n",
        "numeros = '1234567890'\n",
        "print(numeros)\n",
        "\n",
        "numeros[::2]"
      ],
      "execution_count": null,
      "outputs": [
        {
          "output_type": "stream",
          "name": "stdout",
          "text": [
            "1234567890\n"
          ]
        },
        {
          "output_type": "execute_result",
          "data": {
            "application/vnd.google.colaboratory.intrinsic+json": {
              "type": "string"
            },
            "text/plain": [
              "'13579'"
            ]
          },
          "metadata": {},
          "execution_count": 20
        }
      ]
    },
    {
      "cell_type": "code",
      "metadata": {
        "colab": {
          "base_uri": "https://localhost:8080/"
        },
        "id": "BeRQc4F54Saq",
        "outputId": "da5d0a79-508f-42cc-8974-cdda9c5747b5"
      },
      "source": [
        "#OPERADOR in / not in\n",
        "frase = ' O rato roeu a roupa do Rei de Roma'\n",
        "'rato' in frase \n",
        "'rei' not in frase\n",
        "len(frase)\n",
        "'rei' in frase.lower()\n",
        "'REI' in frase.upper()\n",
        "print(frase.lower())\n",
        "print(frase.upper())\n",
        "print(frase)"
      ],
      "execution_count": null,
      "outputs": [
        {
          "output_type": "stream",
          "name": "stdout",
          "text": [
            " o rato roeu a roupa do rei de roma\n",
            " O RATO ROEU A ROUPA DO REI DE ROMA\n",
            " O rato roeu a roupa do Rei de Roma\n"
          ]
        }
      ]
    },
    {
      "cell_type": "code",
      "metadata": {
        "colab": {
          "base_uri": "https://localhost:8080/"
        },
        "id": "nJcZYrBo68Gp",
        "outputId": "8831e3f5-95db-4ac0-f1b2-dd74afa51387"
      },
      "source": [
        "#FUNÇÃO SPLIT\n",
        "frase = 'O rato roeu a roupa do Rei de Roma'\n",
        "texto = 'Laranja, Banana, Maça, Mamão'\n",
        "\n",
        "frase.split()\n",
        "texto.split(',')\n",
        "\n",
        "print(texto.replace('Laranja', 'Tangerina'))\n",
        "print(texto.replace(' ', ''))\n"
      ],
      "execution_count": null,
      "outputs": [
        {
          "output_type": "stream",
          "name": "stdout",
          "text": [
            "Tangerina, Banana, Maça, Mamão\n",
            "Laranja,Banana,Maça,Mamão\n"
          ]
        }
      ]
    },
    {
      "cell_type": "code",
      "metadata": {
        "colab": {
          "base_uri": "https://localhost:8080/",
          "height": 35
        },
        "id": "51sxMrb81dke",
        "outputId": "2c31731d-ddf6-4374-f04b-ca7b10cc051a"
      },
      "source": [
        "#CONCATENAR\n",
        "frase1 = 'Olá, bom dia'\n",
        "nome = 'Fulano de tal'\n",
        "frase1 + nome \n",
        "\n",
        "a = 10 \n",
        "b = '20'\n",
        "\n",
        "\n",
        "str(a) + b"
      ],
      "execution_count": null,
      "outputs": [
        {
          "output_type": "execute_result",
          "data": {
            "application/vnd.google.colaboratory.intrinsic+json": {
              "type": "string"
            },
            "text/plain": [
              "'1020'"
            ]
          },
          "metadata": {},
          "execution_count": 18
        }
      ]
    },
    {
      "cell_type": "code",
      "metadata": {
        "colab": {
          "base_uri": "https://localhost:8080/"
        },
        "id": "AK_kjzymBvji",
        "outputId": "2b50f0bc-24c2-423f-dec3-31c0fe1e9002"
      },
      "source": [
        "#COUNT\n",
        "\n",
        "texto = 'Laranja, Banana, Maçã, aaaaaa a a'\n",
        "texto.count('a')"
      ],
      "execution_count": null,
      "outputs": [
        {
          "output_type": "execute_result",
          "data": {
            "text/plain": [
              "15"
            ]
          },
          "metadata": {},
          "execution_count": 19
        }
      ]
    },
    {
      "cell_type": "code",
      "metadata": {
        "colab": {
          "base_uri": "https://localhost:8080/"
        },
        "id": "YwTuILCNdI2b",
        "outputId": "4cd01193-c0ba-4ffb-e458-d7995bf7d6c5"
      },
      "source": [
        "#IF e ELSE\n",
        "a = 10\n",
        "b = 20 \n",
        "if b > a : \n",
        "  print('é maior')\n",
        "\n",
        "if b < a :\n",
        "  print('é maior') #Não aparece nada."
      ],
      "execution_count": null,
      "outputs": [
        {
          "output_type": "stream",
          "name": "stdout",
          "text": [
            "é maior\n"
          ]
        }
      ]
    },
    {
      "cell_type": "code",
      "metadata": {
        "colab": {
          "base_uri": "https://localhost:8080/"
        },
        "id": "WqPxM9h2dh31",
        "outputId": "f75b8819-0919-4919-9fa5-600052f9a9d6"
      },
      "source": [
        "idade = 16\n",
        "if idade > 18 :\n",
        "  print('é maior de idade') #Se não for maior, ele não executa e pula\n",
        "else :\n",
        "  print('é menor!') #Se for menor, ele excuta"
      ],
      "execution_count": null,
      "outputs": [
        {
          "output_type": "stream",
          "name": "stdout",
          "text": [
            "é menor!\n"
          ]
        }
      ]
    },
    {
      "cell_type": "code",
      "metadata": {
        "colab": {
          "base_uri": "https://localhost:8080/"
        },
        "id": "b1hmrd1ZeMsf",
        "outputId": "1cdb7796-21c4-4e63-caab-92ba27f52598"
      },
      "source": [
        "numero = 15%2\n",
        "\n",
        "if numero == 0 :\n",
        "  print('é um numero par')\n",
        "  \n",
        "else :\n",
        "  print('é um numero impar')"
      ],
      "execution_count": null,
      "outputs": [
        {
          "output_type": "stream",
          "name": "stdout",
          "text": [
            "é um numero impar\n"
          ]
        }
      ]
    },
    {
      "cell_type": "code",
      "metadata": {
        "colab": {
          "base_uri": "https://localhost:8080/"
        },
        "id": "W6aAmvIqiWln",
        "outputId": "53543233-a388-43e0-cdd5-7759a6f364df"
      },
      "source": [
        "n1 = int(input('Digite um numero: '))\n",
        "n2 = int(input('Digite outro numero: '))\n",
        "\n",
        "if n1 > n2 :\n",
        "  print(f'O numero {n1} é maior que o numero {n2}')\n",
        "\n",
        "elif n1 == n2 :\n",
        "  print(f'O numero {n1} é igual ao numero {n2}')\n",
        "\n",
        "else :\n",
        "  print(f'O numero {n1} é menor que o numero {n2}')\n",
        "\n"
      ],
      "execution_count": null,
      "outputs": [
        {
          "output_type": "stream",
          "name": "stdout",
          "text": [
            "Digite um numero: 5\n",
            "Digite outro numero: 5\n",
            "O numero 5 é igual ao numero 5\n"
          ]
        }
      ]
    },
    {
      "cell_type": "code",
      "metadata": {
        "colab": {
          "base_uri": "https://localhost:8080/"
        },
        "id": "JwjYhTxep3f5",
        "outputId": "f1956ae7-a4c3-4a0d-b155-3c1b7aa2db9b"
      },
      "source": [
        "a = 5.20\n",
        "g = 6.10\n",
        "\n",
        "\n",
        "ql = float(input('Quanto de gasolina foi vendido? '))\n",
        "\n",
        "if ql < 20 :\n",
        "  print(f'O desconto será de: {g * 4/100:.2f} %')"
      ],
      "execution_count": null,
      "outputs": [
        {
          "output_type": "stream",
          "name": "stdout",
          "text": [
            "Quanto de gasolina foi vendido? 18\n",
            "O desconto será de: 0.24 %\n"
          ]
        }
      ]
    },
    {
      "cell_type": "code",
      "metadata": {
        "colab": {
          "base_uri": "https://localhost:8080/"
        },
        "id": "3KetCoeT75D5",
        "outputId": "e17c58e7-c334-4d05-ca50-348df3707eb7"
      },
      "source": [
        "código = 1234\n",
        "senha = 9999\n",
        "cod_usuario = int(input('Digite um código de usuario: '))\n",
        "cod_sen = int(input('Digite a senha:'))\n",
        "\n",
        "if cod_usuario != código :\n",
        "  print('Código negado, tente novamente!')\n",
        "\n",
        "\n",
        "elif cod_sen != senha :\n",
        "  print('Senha incorreta, tente novamente!')\n",
        "  \n",
        "else :\n",
        "    print('Acesso permitido!')\n"
      ],
      "execution_count": null,
      "outputs": [
        {
          "output_type": "stream",
          "name": "stdout",
          "text": [
            "Digite um código de usuario: 15\n",
            "Digite a senha:15\n",
            "Código negado, tente novamente!\n",
            "Senha incorreta, tente novamente!\n"
          ]
        }
      ]
    },
    {
      "cell_type": "code",
      "metadata": {
        "colab": {
          "base_uri": "https://localhost:8080/"
        },
        "id": "tE6jqjyg_5iz",
        "outputId": "961dd8c5-7ba4-4075-cb03-2f17dd1ccfad"
      },
      "source": [
        "usu = int(input('Digite seu código: '))\n",
        "codigo_usr = 1234\n",
        "codigo_sen = 9999\n",
        "\n",
        "if usu != codigo_usr :\n",
        "  print('Usuario invalido !')\n",
        "  \n",
        "elif usu == codigo_usr :\n",
        "  print(\"Usuario validado\")\n",
        "  senhausr = int(input('Digite a senha '))\n",
        "\n",
        "  if senhausr != codigo_sen :\n",
        "   print('Senha invalida')\n",
        "  else :\n",
        "   print('Acesso permitido')"
      ],
      "execution_count": null,
      "outputs": [
        {
          "output_type": "stream",
          "name": "stdout",
          "text": [
            "Digite seu código: 1234\n",
            "Usuario validado\n",
            "Digite a senha 9999\n",
            "Acesso permitido\n"
          ]
        }
      ]
    },
    {
      "cell_type": "code",
      "metadata": {
        "colab": {
          "base_uri": "https://localhost:8080/"
        },
        "id": "QmOLyOflIXMT",
        "outputId": "8db88833-7fbf-44cf-abb8-218227e8fdc5"
      },
      "source": [
        "litros = float(input('Quantos litros você deseja? '))\n",
        "tipo_comb = str(input('Qual combustivel deseja, A ou G '))\n",
        "\n",
        "gas = 6.10\n",
        "alc = 5.20\n",
        "\n",
        "\n",
        "if tipo_comb == 'A' :\n",
        "  if litros <= 20 : \n",
        "   print('O valor é:', ((alc*0.97)*litros))\n",
        "  else : \n",
        "    print('O valor é:', ((alc*0.95)*litros))\n",
        "else :\n",
        "  if litros <=20 : \n",
        "    print('O valor é:', ((gas*0.96)*litros))\n",
        "  else : \n",
        "    print('O valor é:', ((gas*0.94)*litros))"
      ],
      "execution_count": null,
      "outputs": [
        {
          "output_type": "stream",
          "name": "stdout",
          "text": [
            "Quantos litros você deseja? 10\n",
            "Qual combustivel deseja, A ou G G\n",
            "O valor é: 58.56\n"
          ]
        }
      ]
    }
  ]
}
