{
  "nbformat": 4,
  "nbformat_minor": 0,
  "metadata": {
    "colab": {
      "name": "Aula-Python-Iniciante-07.ipynb",
      "provenance": [],
      "authorship_tag": "ABX9TyMu2G5SbR7uYTe8tLcLBkaR",
      "include_colab_link": true
    },
    "kernelspec": {
      "name": "python3",
      "display_name": "Python 3"
    },
    "language_info": {
      "name": "python"
    }
  },
  "cells": [
    {
      "cell_type": "markdown",
      "metadata": {
        "id": "view-in-github",
        "colab_type": "text"
      },
      "source": [
        "<a href=\"https://colab.research.google.com/github/Eduardomathias09/Python-iniciante/blob/main/Aula_Python_Iniciante_07.ipynb\" target=\"_parent\"><img src=\"https://colab.research.google.com/assets/colab-badge.svg\" alt=\"Open In Colab\"/></a>"
      ]
    },
    {
      "cell_type": "code",
      "metadata": {
        "colab": {
          "base_uri": "https://localhost:8080/"
        },
        "id": "pVIpDNB2UhVG",
        "outputId": "5c04c20b-a81c-4061-8788-faf473520577"
      },
      "source": [
        "lado1 = int(input('Qual a medida do primeiro lado? '))\n",
        "lado2 = int(input('Qual a medida do segundo lado? '))\n",
        "lado3 = int(input('Qual a medida do terceiro lado? '))\n",
        "\n",
        "if lado1 == lado2 == lado3 : \n",
        "   print('Seu triangulo é: Equilátero')\n",
        "elif lado1 == lado2 != lado3 : \n",
        "    print('Seu triangulo é: Isóscele')\n",
        "else :\n",
        "   print('Seu triangulo é: Escaleno')"
      ],
      "execution_count": null,
      "outputs": [
        {
          "output_type": "stream",
          "name": "stdout",
          "text": [
            "Qual a medida do primeiro lado? 50\n",
            "Qual a medida do segundo lado? 50\n",
            "Qual a medida do terceiro lado? 15\n",
            "Seu triangulo é: Isóscele\n"
          ]
        }
      ]
    },
    {
      "cell_type": "code",
      "metadata": {
        "colab": {
          "base_uri": "https://localhost:8080/"
        },
        "id": "ii9FlnHEXVf3",
        "outputId": "e3b293c4-051a-4873-efc2-8f8e1ebd5bb0"
      },
      "source": [
        "altura = float(input('Digite sua altura em metros: '))\n",
        "peso = float(input('Digite seu peso em Kg: '))\n",
        "\n",
        "imc = peso / altura**2\n",
        "\n",
        "if imc < 16:\n",
        "  print('Magreza grave')\n",
        "elif imc < 17 :\n",
        "  print('Magreza moderada')\n",
        "elif imc < 18.5 :\n",
        "  print('Magreza leve')\n",
        "elif imc < 25 :\n",
        "  print('Saudavel')\n",
        "elif imc < 30 :\n",
        "  print('Sobrepeso')\n",
        "elif imc < 35 :\n",
        "  print('Obesidade Gra I')\n",
        "elif imc < 40 :\n",
        "  print('Obesidade Grau II (Severa)')\n",
        "elif imc >= 40 :\n",
        "  print('Obesidade Grau III (Morbida)')\n"
      ],
      "execution_count": null,
      "outputs": [
        {
          "output_type": "stream",
          "name": "stdout",
          "text": [
            "Digite sua altura em metros: 1.83\n",
            "Digite seu peso em Kg: 60\n",
            "Magreza leve\n"
          ]
        }
      ]
    },
    {
      "cell_type": "code",
      "metadata": {
        "colab": {
          "base_uri": "https://localhost:8080/"
        },
        "id": "_P_DiLkfbU1y",
        "outputId": "18ce3062-21e5-4b4c-9a97-0c78c7c40637"
      },
      "source": [
        "dia = int(input('Digite o dia do seu nascimento: '))\n",
        "mes = int(input('Digite o mês do seu nascimento: '))\n",
        "ano = int(input('Digite o ano do seu nascimento: '))\n",
        "\n",
        "if ano < 2006 :\n",
        "  print('Você poderá votar esse ano !')\n",
        "else :\n",
        "  print('Você não poderá votar esse ano !')"
      ],
      "execution_count": null,
      "outputs": [
        {
          "output_type": "stream",
          "name": "stdout",
          "text": [
            "Digite o dia do seu nascimento: 9\n",
            "Digite o mês do seu nascimento: 11\n",
            "Digite o ano do seu nascimento: 2000\n",
            "Você poderá votar esse ano !\n"
          ]
        }
      ]
    },
    {
      "cell_type": "code",
      "metadata": {
        "id": "OPZB8AbWe1z4"
      },
      "source": [
        "nota1 = float(input('Digite a nota da atividade 1: '))\n",
        "nota2 = float(input('Digite a nota da atividade 2: '))\n",
        "\n",
        "mediaf = (nota1+nota2)/2\n",
        "print(f'Sua média é: {mediaf}')\n",
        "\n",
        "\n",
        "if mediaf < 7 :\n",
        "  print('Reprovado')\n",
        "elif mediaf < 10 :\n",
        "      print('Aprovado')\n",
        "else :\n",
        "    print('Aprovado com Distinção')\n"
      ],
      "execution_count": null,
      "outputs": []
    },
    {
      "cell_type": "code",
      "metadata": {
        "colab": {
          "base_uri": "https://localhost:8080/"
        },
        "id": "vumFK_Dkmn0D",
        "outputId": "9c7af13c-c68d-40db-cc5c-a1eef3790f9d"
      },
      "source": [
        "m = 'Bom dia !'\n",
        "v = 'Boa tarde !'\n",
        "n = 'Boa noite !'\n",
        "\n",
        "turno = input('Em qual período você estuda, M, V ou N? ')\n",
        "\n",
        "\n",
        "if periodo == m : \n",
        "  print('m')\n",
        "elif periodo == v  :\n",
        "  print('v')\n",
        "elif periodo == n :\n",
        "  print('n')\n",
        "else :\n",
        "    print('Valor inválido')\n",
        "\n",
        "\n"
      ],
      "execution_count": null,
      "outputs": [
        {
          "output_type": "stream",
          "name": "stdout",
          "text": [
            "Em qual período você estuda, M, V ou N? n\n",
            "Valor inválido\n"
          ]
        }
      ]
    },
    {
      "cell_type": "code",
      "metadata": {
        "colab": {
          "base_uri": "https://localhost:8080/"
        },
        "id": "msvVzPSlj6fT",
        "outputId": "bb6dba85-a5ed-4083-c8c4-c9e2108228fd"
      },
      "source": [
        "salario = float(input('Digite seu salario: '))\n",
        "\n",
        "if salario <= 280 :\n",
        "  aumento = (salario * 0.20)\n",
        "  print(salario+aumento)\n",
        "elif salario \n"
      ],
      "execution_count": null,
      "outputs": [
        {
          "output_type": "stream",
          "name": "stdout",
          "text": [
            "Digite seu salario: 150\n",
            "180.0\n"
          ]
        }
      ]
    }
  ]
}
