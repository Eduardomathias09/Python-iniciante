{
  "nbformat": 4,
  "nbformat_minor": 0,
  "metadata": {
    "colab": {
      "name": "DICIONÁRIOS - Python.ipynb",
      "provenance": [],
      "authorship_tag": "ABX9TyP2GoW3mUYlZifnwAOmq66j",
      "include_colab_link": true
    },
    "kernelspec": {
      "name": "python3",
      "display_name": "Python 3"
    },
    "language_info": {
      "name": "python"
    }
  },
  "cells": [
    {
      "cell_type": "markdown",
      "metadata": {
        "id": "view-in-github",
        "colab_type": "text"
      },
      "source": [
        "<a href=\"https://colab.research.google.com/github/Eduardomathias09/Python-iniciante/blob/main/DICION%C3%81RIOS_Python.ipynb\" target=\"_parent\"><img src=\"https://colab.research.google.com/assets/colab-badge.svg\" alt=\"Open In Colab\"/></a>"
      ]
    },
    {
      "cell_type": "code",
      "metadata": {
        "id": "Um1DoDdWCQ_H"
      },
      "source": [
        "#Estrutura de Dados Lista\n",
        "lista = ['Maça', 'Banana', 'Uva']\n",
        "\n",
        "print(lista[1])\n",
        "#Estrutura de Dados Dicionário\n",
        "alunos = {'nome':'João','idade': 22, 'telefone': '11999999999'}\n",
        "\n",
        "print(alunos['nome'])\n",
        "print(alunos['idade'])\n",
        "print(alunos['telefone'])\n",
        "\n",
        "alunos_academia = [{'nome':'João','idade': 22, 'telefone': '11999999999'},\n",
        "                   {'nome':'Maria','idade': 18, 'telefone': '11999999999'},\n",
        "                   {'nome':'Pedro','idade': 26, 'telefone': '11999999999'},\n",
        "                   {'nome':'Rafaela','idade': 35, 'telefone': '11999999999'}]\n",
        "\n",
        "pessoas = {'nome':'Bismark','idade': 31, 'cursos': ['Engenharida de Dados','FullStack Angular'\n",
        "                                                    'FullStack Mobile']}\n",
        "\n",
        "pessoas['cursos'][1]\n",
        "pessoas['cursos'].append('Banco De Dados')\n",
        "pessoas['cursos']\n",
        "\n",
        "pessoas['nome']\n",
        "alunos_academia[1]['nome']\n",
        "\n",
        "alunos.keys() #Retorna as chaves\n",
        "alunos.values() #Retorna os valores\n",
        "alunos.items() #Retorna chave e valor relacionados\n",
        "\n",
        "alunos.get('nome')\n",
        "alunos.get('idade')\n",
        "\n",
        "for lista_alunos in alunos_academia:\n",
        "  for chave, valor in lista_alunos.items():\n",
        "    print(chave + \" = \"+str(valor))\n",
        "\n",
        "  print(alunos.items)\n"
      ],
      "execution_count": null,
      "outputs": []
    },
    {
      "cell_type": "code",
      "metadata": {
        "id": "87xR5D802Dyt"
      },
      "source": [
        "#Dicionários\n",
        "lanches = {\n",
        "    'Salgados' : {\n",
        "        'coxinha': 4.50,\n",
        "        'risoles': 3,\n",
        "        'pastel': 3.50,\n",
        "        'paodequeijo': 3\n",
        "    },\n",
        "    'Sucos': {\n",
        "        'Laranja': 3,\n",
        "        'Goiaba': 2.50,\n",
        "        'Limão': 3.50\n",
        "    },\n",
        "\n",
        "}\n",
        "total = 0\n",
        "\n",
        "for c, v in lanches.items():\n",
        "  for chave, valor in v.items():\n",
        "    print(c+' 'chave+ ' = '+str(valor))\n"
      ],
      "execution_count": null,
      "outputs": []
    },
    {
      "cell_type": "code",
      "metadata": {
        "id": "7ewwupJW_4Q-"
      },
      "source": [
        "alunos = {'nome':'João','idade': 22, 'telefone': '11999999999'}\n",
        "\n",
        "alunos.pop('idade')\n",
        "\n",
        "print(alunos)\n",
        "\n",
        "del alunos['telefone']\n",
        "\n",
        "print(alunos)\n",
        "\n",
        "alunos.update({'idade': 30, 'telefone': '119999999999'})\n",
        "\n",
        "print(alunos)\n",
        "\n"
      ],
      "execution_count": null,
      "outputs": []
    },
    {
      "cell_type": "code",
      "metadata": {
        "colab": {
          "base_uri": "https://localhost:8080/"
        },
        "id": "nxQGnXmvAaZe",
        "outputId": "acc02f45-3d54-436c-dcb8-d520ba90959d"
      },
      "source": [
        "#TUPLAS \n",
        "\n",
        "tupla = ()\n",
        "\n",
        "type(tupla)\n",
        "\n",
        "cores = ('verde', 'amarelo', 'azul', 'branco')\n",
        "\n",
        "cores[0:]\n",
        "len(cores)\n",
        "dir(tupla)\n",
        "cores.index('branco')\n",
        "cores.count('azul')"
      ],
      "execution_count": null,
      "outputs": [
        {
          "output_type": "execute_result",
          "data": {
            "text/plain": [
              "1"
            ]
          },
          "metadata": {},
          "execution_count": 13
        }
      ]
    }
  ]
}
