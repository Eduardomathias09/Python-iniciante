{
  "nbformat": 4,
  "nbformat_minor": 0,
  "metadata": {
    "colab": {
      "name": "Aula-Python-Iniciante-08.ipynb",
      "provenance": [],
      "authorship_tag": "ABX9TyOfbNRPCUXk1Z8FLxzUtbqV",
      "include_colab_link": true
    },
    "kernelspec": {
      "name": "python3",
      "display_name": "Python 3"
    },
    "language_info": {
      "name": "python"
    }
  },
  "cells": [
    {
      "cell_type": "markdown",
      "metadata": {
        "id": "view-in-github",
        "colab_type": "text"
      },
      "source": [
        "<a href=\"https://colab.research.google.com/github/Eduardomathias09/Python-iniciante/blob/main/Aula_Python_Iniciante_08.ipynb\" target=\"_parent\"><img src=\"https://colab.research.google.com/assets/colab-badge.svg\" alt=\"Open In Colab\"/></a>"
      ]
    },
    {
      "cell_type": "code",
      "metadata": {
        "id": "JsttzZMOPMyb",
        "colab": {
          "base_uri": "https://localhost:8080/"
        },
        "outputId": "04ca379f-84fc-41ae-f4a5-0c70556e7151"
      },
      "source": [
        "n = 1\n",
        "\n",
        "while n <= 10 :\n",
        " print( n, '')\n",
        " n += 1\n",
        "\n",
        "print(n, 'valor final')"
      ],
      "execution_count": 8,
      "outputs": [
        {
          "output_type": "stream",
          "name": "stdout",
          "text": [
            "1 \n",
            "2 \n",
            "3 \n",
            "4 \n",
            "5 \n",
            "6 \n",
            "7 \n",
            "8 \n",
            "9 \n",
            "10 \n",
            "11 valor final\n"
          ]
        }
      ]
    },
    {
      "cell_type": "code",
      "metadata": {
        "id": "silczkgmTIMd",
        "colab": {
          "base_uri": "https://localhost:8080/"
        },
        "outputId": "9402f1a4-dcd4-486d-b844-ad2c6bb66085"
      },
      "source": [
        "cont = 0\n",
        "numero = 50 \n",
        "\n",
        "while numero <= 220 :\n",
        "  if numero % 2 == 0 : \n",
        "     cont += 1\n",
        "  numero += 1\n",
        "print(cont)    \n",
        "\n",
        "  \n",
        "  \n",
        " "
      ],
      "execution_count": 9,
      "outputs": [
        {
          "output_type": "stream",
          "name": "stdout",
          "text": [
            "86\n"
          ]
        }
      ]
    },
    {
      "cell_type": "code",
      "metadata": {
        "id": "E6iniNRZnvU9",
        "colab": {
          "base_uri": "https://localhost:8080/"
        },
        "outputId": "000bd5ba-9afa-40a4-c286-1124d0b0870a"
      },
      "source": [
        "num = 50\n",
        "cont = 0\n",
        "\n",
        "while num <= 220:\n",
        "  if num % 2 == 0:\n",
        "    cont += 1\n",
        "  num += 1\n",
        "print(cont)"
      ],
      "execution_count": 10,
      "outputs": [
        {
          "output_type": "stream",
          "name": "stdout",
          "text": [
            "86\n"
          ]
        }
      ]
    },
    {
      "cell_type": "code",
      "metadata": {
        "id": "G01RtRNSHbF_"
      },
      "source": [
        "i = -1\n",
        "\n",
        "while i <= -10 :\n",
        "  print('i')\n",
        "  i -= 1"
      ],
      "execution_count": 11,
      "outputs": []
    },
    {
      "cell_type": "code",
      "metadata": {
        "id": "eANT5hlRFLh5",
        "colab": {
          "base_uri": "https://localhost:8080/"
        },
        "outputId": "b7ae4f66-513c-4549-b47d-e0511746891e"
      },
      "source": [
        "i = 1\n",
        "maior = menor = 0\n",
        "\n",
        "while i <= 10:\n",
        "  num = int(input(\"Digite um número entre 100 e 500: \"))\n",
        "  while num < 100 or num > 500:\n",
        "    num = int(input(\"O número não está entre 100 e 500. \\nDigite novamente: \"))\n",
        "  \n",
        "  if i == 1:\n",
        "        maior = num\n",
        "        menor = num\n",
        "  else:\n",
        "    if num > maior:\n",
        "       maior = num\n",
        "    if num < menor:\n",
        "       menor = num\n",
        "\n",
        "  i += 1\n",
        "\n",
        "print(f'Maior numero digitado foi : {maior}')\n",
        "print(f'Menor numero digitado foi: {menor}')"
      ],
      "execution_count": 12,
      "outputs": [
        {
          "output_type": "stream",
          "name": "stdout",
          "text": [
            "Digite um número entre 100 e 500: 200\n",
            "Digite um número entre 100 e 500: 120\n",
            "Digite um número entre 100 e 500: 500\n",
            "Digite um número entre 100 e 500: 320\n",
            "Digite um número entre 100 e 500: 225\n",
            "Digite um número entre 100 e 500: 150\n",
            "Digite um número entre 100 e 500: 120\n",
            "Digite um número entre 100 e 500: 114\n",
            "Digite um número entre 100 e 500: 110\n",
            "Digite um número entre 100 e 500: 222\n",
            "Maior numero digitado foi : 500\n",
            "Menor numero digitado foi: 110\n"
          ]
        }
      ]
    }
  ]
}
