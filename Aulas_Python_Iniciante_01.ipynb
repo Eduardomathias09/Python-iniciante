{
  "nbformat": 4,
  "nbformat_minor": 0,
  "metadata": {
    "colab": {
      "name": "Aulas-Python-Iniciante-01.ipynb",
      "provenance": [],
      "authorship_tag": "ABX9TyOisjmr8GqGFDjH842gkSoe",
      "include_colab_link": true
    },
    "kernelspec": {
      "name": "python3",
      "display_name": "Python 3"
    },
    "language_info": {
      "name": "python"
    }
  },
  "cells": [
    {
      "cell_type": "markdown",
      "metadata": {
        "id": "view-in-github",
        "colab_type": "text"
      },
      "source": [
        "<a href=\"https://colab.research.google.com/github/Eduardomathias09/Python-iniciante/blob/main/Aulas_Python_Iniciante_01.ipynb\" target=\"_parent\"><img src=\"https://colab.research.google.com/assets/colab-badge.svg\" alt=\"Open In Colab\"/></a>"
      ]
    },
    {
      "cell_type": "code",
      "metadata": {
        "colab": {
          "base_uri": "https://localhost:8080/"
        },
        "id": "3JkKWzRJntwh",
        "outputId": "e6140123-3030-4659-f387-22589445126a"
      },
      "source": [
        "print('Exercício 1')\n",
        "\n",
        "n1 = int(input('Digite um numero: '))\n",
        "n2 = int(input('Digite um numero: '))\n",
        "\n",
        "s = n1 + n2\n",
        "sub = n1 - n2 \n",
        "m = n1 * n2 \n",
        "d = n1 / n2\n",
        "\n",
        "print('A soma dos numeros ', n1, 'e', n2, 'é: ', s)\n",
        "print('A subtração dos numeros', n1, 'e', n2, 'é: ', sub )\n",
        "print('A multiplicação dos numeros', n1, 'e', n2, 'é: ', m)\n",
        "print('A divisão entre', n1, 'e', n2, 'é: ', d)\n",
        " \n",
        "print('Exercício 2')\n",
        "\n",
        "n3 = int(input('Digite um numero:'))\n",
        "n4 = int(input('Digite outro numero: '))\n",
        "\n",
        "print('O numero', n3, 'elevado ao numero', n4, 'é igual a: ', n3**n4)\n",
        "print('E o numero', n4, 'elevado ao numero', n3, 'é igual a: ', n4**n3)\n",
        "\n",
        "\n",
        "print('Exercício 3')\n",
        "\n",
        "n5 = int(input('Digite um numero: '))\n",
        "cubo = n5**3\n",
        "\n",
        "print(n5)\n",
        "\n",
        "print('O cubo desse numero e:', cubo)\n",
        "\n",
        "print('Exercício 4')\n",
        "\n",
        "n6 = int(input('Digite um numero: '))\n",
        "n7 = int(input('Digite outro numero: '))\n",
        "\n",
        "div = (n6//n7)\n",
        "rest = (n6%n7)\n",
        "\n",
        "print('A divisão exata desses numeros são:', div, 'E o resto é:', rest)\n",
        "\n",
        "print('Exercício 5')\n",
        "\n",
        "sal = float(input('Digite seu salario: '))\n",
        "desp = float(input('Digite sua despesa: '))\n",
        "\n",
        "persalario = (desp / sal) * 100\n",
        "\n",
        "print('A porcentagem de despesas em relação ao salário é: ', persalario , '%')\n",
        "\n",
        "\n"
      ],
      "execution_count": 3,
      "outputs": [
        {
          "output_type": "stream",
          "name": "stdout",
          "text": [
            "Exercício 1\n",
            "Digite um numero: 5\n",
            "Digite um numero: 2\n",
            "A soma dos numeros  5 e 2 é:  7\n",
            "A subtração dos numeros 5 e 2 é:  3\n",
            "A multiplicação dos numeros 5 e 2 é:  10\n",
            "A divisão entre 5 e 2 é:  2.5\n",
            "Exercício 2\n",
            "Digite um numero:2\n",
            "Digite outro numero: 3\n",
            "O numero 2 elevado ao numero 3 é igual a:  8\n",
            "E o numero 3 elevado ao numero 2 é igual a:  9\n",
            "Exercício 3\n",
            "Digite um numero: 2\n",
            "2\n",
            "O cubo desse numero e: 8\n",
            "Exercício 4\n",
            "Digite um numero: 2\n",
            "Digite outro numero: 8\n",
            "A divisão exata desses numeros são: 0 E o resto é: 2\n",
            "Exercício 5\n",
            "Digite seu salario: 1200\n",
            "Digite sua despesa: 700\n",
            "A porcentagem de despesas em relação ao salário é:  58.333333333333336 %\n"
          ]
        }
      ]
    }
  ]
}