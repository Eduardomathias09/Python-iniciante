{
  "nbformat": 4,
  "nbformat_minor": 0,
  "metadata": {
    "colab": {
      "name": "Aula-Python-Iniciante-02.ipynb",
      "provenance": [],
      "authorship_tag": "ABX9TyNNV2kFS1i3pHmr9fNe/ruP",
      "include_colab_link": true
    },
    "kernelspec": {
      "name": "python3",
      "display_name": "Python 3"
    },
    "language_info": {
      "name": "python"
    }
  },
  "cells": [
    {
      "cell_type": "markdown",
      "metadata": {
        "id": "view-in-github",
        "colab_type": "text"
      },
      "source": [
        "<a href=\"https://colab.research.google.com/github/Eduardomathias09/Python-iniciante/blob/main/Aula_Python_Iniciante_02.ipynb\" target=\"_parent\"><img src=\"https://colab.research.google.com/assets/colab-badge.svg\" alt=\"Open In Colab\"/></a>"
      ]
    },
    {
      "cell_type": "code",
      "metadata": {
        "colab": {
          "base_uri": "https://localhost:8080/"
        },
        "id": "jlC3FXEzpRDq",
        "outputId": "41d6764d-25c4-4439-d75a-3b6c8f40bf25"
      },
      "source": [
        "#Operador MAIOR OU IGUAL A\n",
        "\n",
        "n1 = 5\n",
        "n2 = 5\n",
        "\n",
        "print(n1 >= n2) #verdadeiro\n",
        "print(n2 >= n1) #verdadeiro \n",
        "print(n1 >= 0) #verdadeiro\n"
      ],
      "execution_count": null,
      "outputs": [
        {
          "output_type": "stream",
          "name": "stdout",
          "text": [
            "True\n",
            "True\n",
            "True\n"
          ]
        }
      ]
    },
    {
      "cell_type": "code",
      "metadata": {
        "colab": {
          "base_uri": "https://localhost:8080/"
        },
        "id": "Kc2pmzK8qNVS",
        "outputId": "504bedf6-b79e-44b6-ecc4-f5f85d30d32b"
      },
      "source": [
        "#Operador MENOR OU IGUAL A\n",
        " \n",
        "n1 = 5 \n",
        "n2 = 5\n",
        "\n",
        "print(n1 <= n2)\n",
        "print(n2 <= n1)\n",
        "print(n1 <= 0)\n"
      ],
      "execution_count": null,
      "outputs": [
        {
          "output_type": "stream",
          "name": "stdout",
          "text": [
            "True\n",
            "True\n",
            "False\n"
          ]
        }
      ]
    },
    {
      "cell_type": "code",
      "metadata": {
        "colab": {
          "base_uri": "https://localhost:8080/"
        },
        "id": "gUL1IHgFqETG",
        "outputId": "e137b065-4aae-44b5-a7c4-1a151c8786b8"
      },
      "source": [
        "#Operador diferente \n",
        "\n",
        "n1 = 5 \n",
        "n2 = 5\n",
        "\n",
        "print(n1 != n2)\n",
        "print(n1 != 4)"
      ],
      "execution_count": null,
      "outputs": [
        {
          "output_type": "stream",
          "name": "stdout",
          "text": [
            "False\n",
            "True\n"
          ]
        }
      ]
    }
  ]
}