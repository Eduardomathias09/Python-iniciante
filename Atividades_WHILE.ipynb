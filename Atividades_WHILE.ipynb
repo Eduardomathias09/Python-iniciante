{
  "nbformat": 4,
  "nbformat_minor": 0,
  "metadata": {
    "colab": {
      "name": "Atividades - WHILE ",
      "provenance": [],
      "authorship_tag": "ABX9TyMWeB3nOZG9glO+SINABEs7",
      "include_colab_link": true
    },
    "kernelspec": {
      "name": "python3",
      "display_name": "Python 3"
    },
    "language_info": {
      "name": "python"
    }
  },
  "cells": [
    {
      "cell_type": "markdown",
      "metadata": {
        "id": "view-in-github",
        "colab_type": "text"
      },
      "source": [
        "<a href=\"https://colab.research.google.com/github/Eduardomathias09/Python-iniciante/blob/main/Atividades_WHILE.ipynb\" target=\"_parent\"><img src=\"https://colab.research.google.com/assets/colab-badge.svg\" alt=\"Open In Colab\"/></a>"
      ]
    },
    {
      "cell_type": "code",
      "metadata": {
        "id": "Y3mew0C-eAg_",
        "colab": {
          "base_uri": "https://localhost:8080/"
        },
        "outputId": "f4b38765-6417-4e0f-dd69-55ac4f24414c"
      },
      "source": [
        "n1 = int(input('Digite um número negativo: ' ))\n",
        "\n",
        "\n",
        "while n1 >= 0 : \n",
        "  n1 = int(input('Erro ! Digite um número negativo. ' ))\n",
        "  \n",
        "  \n",
        "print(f'Você digitou o número {n1 }!')"
      ],
      "execution_count": 1,
      "outputs": [
        {
          "output_type": "stream",
          "name": "stdout",
          "text": [
            "Digite um número negativo: -25\n",
            "Você digitou o número -25!\n"
          ]
        }
      ]
    },
    {
      "cell_type": "code",
      "metadata": {
        "id": "n64g0y1eqfbB",
        "colab": {
          "base_uri": "https://localhost:8080/"
        },
        "outputId": "32fb531b-770d-43f7-ca6b-817d9788f2c9"
      },
      "source": [
        "#Exercício 1: Escrever um programa para exibir os números de 1 até 50 na tela.\n",
        "\n",
        "cont = 1 \n",
        "\n",
        "while cont <= 50 :\n",
        "  print(cont)\n",
        "  cont += 1\n"
      ],
      "execution_count": 5,
      "outputs": [
        {
          "output_type": "stream",
          "name": "stdout",
          "text": [
            "1\n",
            "2\n",
            "3\n",
            "4\n",
            "5\n",
            "6\n",
            "7\n",
            "8\n",
            "9\n",
            "10\n",
            "11\n",
            "12\n",
            "13\n",
            "14\n",
            "15\n",
            "16\n",
            "17\n",
            "18\n",
            "19\n",
            "20\n",
            "21\n",
            "22\n",
            "23\n",
            "24\n",
            "25\n",
            "26\n",
            "27\n",
            "28\n",
            "29\n",
            "30\n",
            "31\n",
            "32\n",
            "33\n",
            "34\n",
            "35\n",
            "36\n",
            "37\n",
            "38\n",
            "39\n",
            "40\n",
            "41\n",
            "42\n",
            "43\n",
            "44\n",
            "45\n",
            "46\n",
            "47\n",
            "48\n",
            "49\n",
            "50\n"
          ]
        }
      ]
    },
    {
      "cell_type": "code",
      "metadata": {
        "id": "qdz1JNRerFfe",
        "colab": {
          "base_uri": "https://localhost:8080/"
        },
        "outputId": "c803b8e5-9c43-4872-98f6-019438fc85a1"
      },
      "source": [
        "#Exercício 2: Escrever um programa para exibir os números de 25 a 85 na tela.\n",
        "\n",
        "cont = 25\n",
        "\n",
        "while cont >= 25 and cont <= 85 :\n",
        "  print(cont)\n",
        "  cont += 1"
      ],
      "execution_count": 6,
      "outputs": [
        {
          "output_type": "stream",
          "name": "stdout",
          "text": [
            "25\n",
            "26\n",
            "27\n",
            "28\n",
            "29\n",
            "30\n",
            "31\n",
            "32\n",
            "33\n",
            "34\n",
            "35\n",
            "36\n",
            "37\n",
            "38\n",
            "39\n",
            "40\n",
            "41\n",
            "42\n",
            "43\n",
            "44\n",
            "45\n",
            "46\n",
            "47\n",
            "48\n",
            "49\n",
            "50\n",
            "51\n",
            "52\n",
            "53\n",
            "54\n",
            "55\n",
            "56\n",
            "57\n",
            "58\n",
            "59\n",
            "60\n",
            "61\n",
            "62\n",
            "63\n",
            "64\n",
            "65\n",
            "66\n",
            "67\n",
            "68\n",
            "69\n",
            "70\n",
            "71\n",
            "72\n",
            "73\n",
            "74\n",
            "75\n",
            "76\n",
            "77\n",
            "78\n",
            "79\n",
            "80\n",
            "81\n",
            "82\n",
            "83\n",
            "84\n",
            "85\n"
          ]
        }
      ]
    },
    {
      "cell_type": "code",
      "metadata": {
        "id": "s-9OOVRPrSIN",
        "colab": {
          "base_uri": "https://localhost:8080/"
        },
        "outputId": "b3e462ad-fcfd-417d-82d9-483cd261f24e"
      },
      "source": [
        "#Exercício 3: Escrever um programa para exibir os números de 1 a 100 em ordem inversa.\n",
        "\n",
        "cont = 100                 \n",
        "\n",
        "while cont > 0 :\n",
        "  print(cont)\n",
        "  cont -= 1"
      ],
      "execution_count": 7,
      "outputs": [
        {
          "output_type": "stream",
          "name": "stdout",
          "text": [
            "100\n",
            "99\n",
            "98\n",
            "97\n",
            "96\n",
            "95\n",
            "94\n",
            "93\n",
            "92\n",
            "91\n",
            "90\n",
            "89\n",
            "88\n",
            "87\n",
            "86\n",
            "85\n",
            "84\n",
            "83\n",
            "82\n",
            "81\n",
            "80\n",
            "79\n",
            "78\n",
            "77\n",
            "76\n",
            "75\n",
            "74\n",
            "73\n",
            "72\n",
            "71\n",
            "70\n",
            "69\n",
            "68\n",
            "67\n",
            "66\n",
            "65\n",
            "64\n",
            "63\n",
            "62\n",
            "61\n",
            "60\n",
            "59\n",
            "58\n",
            "57\n",
            "56\n",
            "55\n",
            "54\n",
            "53\n",
            "52\n",
            "51\n",
            "50\n",
            "49\n",
            "48\n",
            "47\n",
            "46\n",
            "45\n",
            "44\n",
            "43\n",
            "42\n",
            "41\n",
            "40\n",
            "39\n",
            "38\n",
            "37\n",
            "36\n",
            "35\n",
            "34\n",
            "33\n",
            "32\n",
            "31\n",
            "30\n",
            "29\n",
            "28\n",
            "27\n",
            "26\n",
            "25\n",
            "24\n",
            "23\n",
            "22\n",
            "21\n",
            "20\n",
            "19\n",
            "18\n",
            "17\n",
            "16\n",
            "15\n",
            "14\n",
            "13\n",
            "12\n",
            "11\n",
            "10\n",
            "9\n",
            "8\n",
            "7\n",
            "6\n",
            "5\n",
            "4\n",
            "3\n",
            "2\n",
            "1\n"
          ]
        }
      ]
    },
    {
      "cell_type": "code",
      "metadata": {
        "id": "w6l9h5G-vJ-u",
        "colab": {
          "base_uri": "https://localhost:8080/"
        },
        "outputId": "0cbdc69b-8d74-427d-9e39-ed75313cbfea"
      },
      "source": [
        "#Exercício 4: Fazer um programa para encontrar todos os números pares entre 1 e 100.\n",
        "\n",
        "cont = 1\n",
        "\n",
        "while cont <= 100 : \n",
        "  if cont % 2 == 0 :\n",
        "\n",
        "    print(cont)\n",
        "  cont += 1"
      ],
      "execution_count": 8,
      "outputs": [
        {
          "output_type": "stream",
          "name": "stdout",
          "text": [
            "2\n",
            "4\n",
            "6\n",
            "8\n",
            "10\n",
            "12\n",
            "14\n",
            "16\n",
            "18\n",
            "20\n",
            "22\n",
            "24\n",
            "26\n",
            "28\n",
            "30\n",
            "32\n",
            "34\n",
            "36\n",
            "38\n",
            "40\n",
            "42\n",
            "44\n",
            "46\n",
            "48\n",
            "50\n",
            "52\n",
            "54\n",
            "56\n",
            "58\n",
            "60\n",
            "62\n",
            "64\n",
            "66\n",
            "68\n",
            "70\n",
            "72\n",
            "74\n",
            "76\n",
            "78\n",
            "80\n",
            "82\n",
            "84\n",
            "86\n",
            "88\n",
            "90\n",
            "92\n",
            "94\n",
            "96\n",
            "98\n",
            "100\n"
          ]
        }
      ]
    },
    {
      "cell_type": "code",
      "metadata": {
        "id": "NqaYk2zHybC-",
        "colab": {
          "base_uri": "https://localhost:8080/"
        },
        "outputId": "de967bd4-445d-4dd6-86ae-bf296903f600"
      },
      "source": [
        "#Exercício 5: Fazer um programa para encontrar todos os múltiplos de 3 de 1 a 50.\n",
        "\n",
        "cont = 1\n",
        "\n",
        "while cont <= 50 :\n",
        "  if cont / 3 :\n",
        "   print(cont)\n",
        "  cont += 1 "
      ],
      "execution_count": 9,
      "outputs": [
        {
          "output_type": "stream",
          "name": "stdout",
          "text": [
            "1\n",
            "2\n",
            "3\n",
            "4\n",
            "5\n",
            "6\n",
            "7\n",
            "8\n",
            "9\n",
            "10\n",
            "11\n",
            "12\n",
            "13\n",
            "14\n",
            "15\n",
            "16\n",
            "17\n",
            "18\n",
            "19\n",
            "20\n",
            "21\n",
            "22\n",
            "23\n",
            "24\n",
            "25\n",
            "26\n",
            "27\n",
            "28\n",
            "29\n",
            "30\n",
            "31\n",
            "32\n",
            "33\n",
            "34\n",
            "35\n",
            "36\n",
            "37\n",
            "38\n",
            "39\n",
            "40\n",
            "41\n",
            "42\n",
            "43\n",
            "44\n",
            "45\n",
            "46\n",
            "47\n",
            "48\n",
            "49\n",
            "50\n"
          ]
        }
      ]
    },
    {
      "cell_type": "code",
      "metadata": {
        "id": "_oJPR9K0DncF",
        "colab": {
          "base_uri": "https://localhost:8080/"
        },
        "outputId": "cd6f48bd-fbd5-47d1-e079-ba039b041c39"
      },
      "source": [
        "#Exercício 6: Ler um valor inteiro (aceitar somente valores entre 1 e 10) e escrever a tabuada de 1 a 10 do valor lido.\n",
        "\n",
        "n1 = int(input('Digite um número ente 1 e 10, para ver sua tabuada: '))\n",
        "\n",
        "while n1 > 10:\n",
        "  n1 = int(input('Erro ! Digite um número entre 1 e 10: '))\n",
        "\n",
        "print('{} x {:2} = {}'.format(n1, 0, n1*0))\n",
        "print('{} x {:2} = {}'.format(n1, 1, n1*1))\n",
        "print('{} x {:2} = {}'.format(n1, 2, n1*2))\n",
        "print('{} x {:2} = {}'.format(n1, 3, n1*3))\n",
        "print('{} x {:2} = {}'.format(n1, 4, n1*4))\n",
        "print('{} x {:2} = {}'.format(n1, 5, n1*5))\n",
        "print('{} x {:2} = {}'.format(n1, 6, n1*6))\n",
        "print('{} x {:2} = {}'.format(n1, 7, n1*7))\n",
        "print('{} x {:2} = {}'.format(n1, 8, n1*8))\n",
        "print('{} x {:2} = {}'.format(n1, 9, n1*9))\n",
        "print('{} x {:2} = {}'.format(n1, 10, n1*10))"
      ],
      "execution_count": 10,
      "outputs": [
        {
          "output_type": "stream",
          "name": "stdout",
          "text": [
            "Digite um número ente 1 e 10, para ver sua tabuada: 5\n",
            "5 x  0 = 0\n",
            "5 x  1 = 5\n",
            "5 x  2 = 10\n",
            "5 x  3 = 15\n",
            "5 x  4 = 20\n",
            "5 x  5 = 25\n",
            "5 x  6 = 30\n",
            "5 x  7 = 35\n",
            "5 x  8 = 40\n",
            "5 x  9 = 45\n",
            "5 x 10 = 50\n"
          ]
        }
      ]
    },
    {
      "cell_type": "code",
      "metadata": {
        "id": "8i9N2ZZlion2",
        "colab": {
          "base_uri": "https://localhost:8080/"
        },
        "outputId": "471fb76c-e764-4a2c-d3f2-2513ca5ea9e5"
      },
      "source": [
        "#Revisão Exercício 6: \n",
        "\n",
        "n1 = int(input('Digite um número entre 1 e 10: '))\n",
        "\n",
        "while n1 < 1 or n1 > 10 :\n",
        "  n1 = int(input('Digite um número entre 1 e 10: '))\n",
        " \n",
        "cont = 1 \n",
        "while cont <= 10 :\n",
        "   print(f'{n1} x {cont:2} = ', n1 * cont)\n",
        "   cont += 1"
      ],
      "execution_count": 11,
      "outputs": [
        {
          "output_type": "stream",
          "name": "stdout",
          "text": [
            "Digite um número entre 1 e 10: 4\n",
            "4 x  1 =  4\n",
            "4 x  2 =  8\n",
            "4 x  3 =  12\n",
            "4 x  4 =  16\n",
            "4 x  5 =  20\n",
            "4 x  6 =  24\n",
            "4 x  7 =  28\n",
            "4 x  8 =  32\n",
            "4 x  9 =  36\n",
            "4 x 10 =  40\n"
          ]
        }
      ]
    },
    {
      "cell_type": "code",
      "metadata": {
        "id": "9s88r4W3IRMF",
        "colab": {
          "base_uri": "https://localhost:8080/"
        },
        "outputId": "0891dc70-cb8b-497a-91b5-d09b146c0daa"
      },
      "source": [
        "#Exercício 7: Faça um programa que leia 5 idades e mostre na tela a média das idades lidas.\n",
        "\n",
        "cont = 1\n",
        "total = 0\n",
        "\n",
        "while cont <= 5 :\n",
        "  idade = int(input('Digite sua idade : ')) \n",
        "  if idade <= 0 :\n",
        "   idade = int(input('Erro ! Digite um número válido: '))\n",
        "  total += idade\n",
        "  cont += 1\n",
        "\n",
        "media_idade = total / 5   \n",
        "print(f'A medidas das idades inseridas são: {media_idade}')"
      ],
      "execution_count": 13,
      "outputs": [
        {
          "output_type": "stream",
          "name": "stdout",
          "text": [
            "Digite sua idade : 10\n",
            "Digite sua idade : 35\n",
            "Digite sua idade : 70\n",
            "Digite sua idade : 20\n",
            "Digite sua idade : 22\n",
            "A medidas das idades inseridas são: 31.4\n"
          ]
        }
      ]
    },
    {
      "cell_type": "code",
      "metadata": {
        "id": "TtJMTiumrigc",
        "colab": {
          "base_uri": "https://localhost:8080/"
        },
        "outputId": "f1113143-f8f9-49ad-916e-da31f792f71a"
      },
      "source": [
        "#Conclusão Exercício 7: \n",
        "'''\n",
        "cont = 1 e vai até 5\n",
        "ler uma idade válida (idade tem que ser maior que 0 e menor que 120)\n",
        "soma das idades / 5\n",
        "cont = 1\n",
        "cont += 10\n",
        "soma == 0\n",
        "soma_idade += idade\n",
        "media = soma_idade / 5\n",
        "'''\n",
        "cont = 1\n",
        "soma_idade = 0\n",
        "while cont <= 5 : \n",
        "  idade = int(input('Digite uma idade: '))\n",
        "  while idade <= 0 or idade > 120 :\n",
        "    idade = int(input('Idade inválida! Digite uma idade entre 1 e 120: '))\n",
        "\n",
        "  soma_idade += idade\n",
        "  cont += 1\n",
        "media = soma_idade / 5\n",
        "print(f'A media de todas as idades digitadas é: {media}')\n"
      ],
      "execution_count": 14,
      "outputs": [
        {
          "output_type": "stream",
          "name": "stdout",
          "text": [
            "Digite uma idade: 15\n",
            "Digite uma idade: 32\n",
            "Digite uma idade: 25\n",
            "Digite uma idade: 44\n",
            "Digite uma idade: 75\n",
            "A media de todas as idades digitadas é: 38.2\n"
          ]
        }
      ]
    },
    {
      "cell_type": "code",
      "metadata": {
        "id": "xmHHHNm6xPsE",
        "colab": {
          "base_uri": "https://localhost:8080/"
        },
        "outputId": "10cae108-10ff-44be-8c4a-fb691f61e68d"
      },
      "source": [
        "#Exercício 8: Ler 10 números e informar na tela quantos números pares foram digitados e quantos números ímpares foram digitados.\n",
        "\n",
        "''' \n",
        "  somaPar = 0\n",
        "\n",
        "  somaImpar = 0\n",
        "'''\n",
        "\n",
        "somaPar = 0\n",
        "somaImpar = 0\n",
        "cont = 1\n",
        "\n",
        "while cont <= 10 :\n",
        "  num1 = int(input('Digite um número: '))\n",
        "  if num1 % 2 == 0:\n",
        "    somaPar += 1\n",
        "  else :\n",
        "      somaImpar += 1\n",
        "  cont += 1\n",
        "print(f'A quantidade de números pares lidos foi {somaPar} !')\n",
        "print(f'A quantidade de números impares lidos foi {somaImpar} !')"
      ],
      "execution_count": 16,
      "outputs": [
        {
          "output_type": "stream",
          "name": "stdout",
          "text": [
            "Digite um número: 15\n",
            "Digite um número: 22\n",
            "Digite um número: 30\n",
            "Digite um número: 47\n",
            "Digite um número: 3\n",
            "Digite um número: 21\n",
            "Digite um número: 22\n",
            "Digite um número: 75\n",
            "Digite um número: 12\n",
            "Digite um número: 15\n",
            "A quantidade de números pares lidos foi 4 !\n",
            "A quantidade de números impares lidos foi 6 !\n"
          ]
        }
      ]
    },
    {
      "cell_type": "code",
      "metadata": {
        "id": "aVDnWzzWzKJ4",
        "colab": {
          "base_uri": "https://localhost:8080/"
        },
        "outputId": "ea516a08-6fec-4442-c538-e34bf5ace4b9"
      },
      "source": [
        "#Exercício 9: Faça um programa que leia 3 notas (de 0 a 10) e informe na tela a média das notas lidas.\n",
        "\n",
        "cont = 1\n",
        "soma_nota = 0\n",
        "while cont <= 3 :\n",
        "  nota1 = float(input('Digite 3 notas de 0 a 10: '))\n",
        "  while nota1 < 0 or nota1 > 10 :\n",
        "    nota1 = float(input('Erro ! Digite números entre 0 e 10: '))\n",
        "  \n",
        "  soma_nota += nota1 \n",
        "  cont += 1\n",
        "mediaf = soma_nota / 3\n",
        "print(f'A média das notas é de: {mediaf:.1f}')\n"
      ],
      "execution_count": 17,
      "outputs": [
        {
          "output_type": "stream",
          "name": "stdout",
          "text": [
            "Digite 3 notas de 0 a 10: 15\n",
            "Erro ! Digite números entre 0 e 10: 7\n",
            "Digite 3 notas de 0 a 10: 4\n",
            "Digite 3 notas de 0 a 10: 9\n",
            "A média das notas é de: 6.7\n"
          ]
        }
      ]
    }
  ]
}