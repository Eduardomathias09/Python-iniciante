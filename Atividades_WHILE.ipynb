{
  "nbformat": 4,
  "nbformat_minor": 0,
  "metadata": {
    "colab": {
      "name": "Atividades - WHILE ",
      "provenance": [],
      "authorship_tag": "ABX9TyN0KoizwJrDQ+7rUfP9JZ8x",
      "include_colab_link": true
    },
    "kernelspec": {
      "name": "python3",
      "display_name": "Python 3"
    },
    "language_info": {
      "name": "python"
    }
  },
  "cells": [
    {
      "cell_type": "markdown",
      "metadata": {
        "id": "view-in-github",
        "colab_type": "text"
      },
      "source": [
        "<a href=\"https://colab.research.google.com/github/Eduardomathias09/Python-iniciante/blob/main/Atividades_WHILE.ipynb\" target=\"_parent\"><img src=\"https://colab.research.google.com/assets/colab-badge.svg\" alt=\"Open In Colab\"/></a>"
      ]
    },
    {
      "cell_type": "code",
      "metadata": {
        "id": "Y3mew0C-eAg_"
      },
      "source": [
        "n1 = int(input('Digite um número negativo: ' ))\n",
        "\n",
        "\n",
        "while n1 >= 0 : \n",
        "  n1 = int(input('Erro ! Digite um número negativo. ' ))\n",
        "  \n",
        "  \n",
        "print(f'Você digitou o número {n1 }!')"
      ],
      "execution_count": null,
      "outputs": []
    },
    {
      "cell_type": "code",
      "metadata": {
        "id": "lKzEBellhJes"
      },
      "source": [
        "contador = 1 \n",
        "\n",
        "while contador <= 10 :\n",
        "  contador = int(input('Digite um número negativo: ' ))\n",
        "#Aqui acontece a validação do número que deve ser negativo.\n",
        "  while contador >= 0 : \n",
        "   contador = int(input('Erro ! Digite um número negativo. ' ))\n",
        "\n",
        "print(contador)\n",
        "cont += 1"
      ],
      "execution_count": null,
      "outputs": []
    },
    {
      "cell_type": "code",
      "metadata": {
        "id": "n64g0y1eqfbB"
      },
      "source": [
        "#Exercício 1: Escrever um programa para exibir os números de 1 até 50 na tela.\n",
        "\n",
        "cont = 1 \n",
        "\n",
        "while cont <= 50 :\n",
        "  print(cont)\n",
        "  cont += 1\n"
      ],
      "execution_count": null,
      "outputs": []
    },
    {
      "cell_type": "code",
      "metadata": {
        "id": "qdz1JNRerFfe"
      },
      "source": [
        "#Exercício 2: Escrever um programa para exibir os números de 25 a 85 na tela.\n",
        "\n",
        "cont = 25\n",
        "\n",
        "while cont >= 25 and cont <= 85 :\n",
        "  print(cont)\n",
        "  cont += 1"
      ],
      "execution_count": null,
      "outputs": []
    },
    {
      "cell_type": "code",
      "metadata": {
        "id": "s-9OOVRPrSIN"
      },
      "source": [
        "#Exercício 3: Escrever um programa para exibir os números de 1 a 100 em ordem inversa.\n",
        "\n",
        "cont = 100                 \n",
        "\n",
        "while cont > 0 :\n",
        "  print(cont)\n",
        "  cont -= 1"
      ],
      "execution_count": null,
      "outputs": []
    },
    {
      "cell_type": "code",
      "metadata": {
        "id": "w6l9h5G-vJ-u"
      },
      "source": [
        "#Exercício 4: Fazer um programa para encontrar todos os números pares entre 1 e 100.\n",
        "\n",
        "cont = 1\n",
        "\n",
        "while cont <= 100 : \n",
        "  if cont % 2 == 0 :\n",
        "\n",
        "    print(cont)\n",
        "  cont += 1"
      ],
      "execution_count": null,
      "outputs": []
    },
    {
      "cell_type": "code",
      "metadata": {
        "id": "NqaYk2zHybC-"
      },
      "source": [
        "#Exercício 5: Fazer um programa para encontrar todos os múltiplos de 3 de 1 a 50.\n",
        "\n",
        "cont = 1\n",
        "\n",
        "while cont <= 50 :\n",
        "  if cont / 3 :\n",
        "   print(cont)\n",
        "  cont += 1 "
      ],
      "execution_count": null,
      "outputs": []
    },
    {
      "cell_type": "code",
      "metadata": {
        "id": "_oJPR9K0DncF"
      },
      "source": [
        "#Exercício 6: Ler um valor inteiro (aceitar somente valores entre 1 e 10) e escrever a tabuada de 1 a 10 do valor lido.\n",
        "\n",
        "n1 = int(input('Digite um número ente 1 e 10, para ver sua tabuada: '))\n",
        "\n",
        "while n1 > 10:\n",
        "  n1 = int(input('Erro ! Digite um número entre 1 e 10: '))\n",
        "\n",
        "print('{} x {:2} = {}'.format(n1, 0, n1*0))\n",
        "print('{} x {:2} = {}'.format(n1, 1, n1*1))\n",
        "print('{} x {:2} = {}'.format(n1, 2, n1*2))\n",
        "print('{} x {:2} = {}'.format(n1, 3, n1*3))\n",
        "print('{} x {:2} = {}'.format(n1, 4, n1*4))\n",
        "print('{} x {:2} = {}'.format(n1, 5, n1*5))\n",
        "print('{} x {:2} = {}'.format(n1, 6, n1*6))\n",
        "print('{} x {:2} = {}'.format(n1, 7, n1*7))\n",
        "print('{} x {:2} = {}'.format(n1, 8, n1*8))\n",
        "print('{} x {:2} = {}'.format(n1, 9, n1*9))\n",
        "print('{} x {:2} = {}'.format(n1, 10, n1*10))"
      ],
      "execution_count": null,
      "outputs": []
    },
    {
      "cell_type": "code",
      "metadata": {
        "id": "8i9N2ZZlion2"
      },
      "source": [
        "#Revisão Exercício 6: \n",
        "\n",
        "n1 = int(input('Digite um número entre 1 e 10: '))\n",
        "\n",
        "while n1 < 1 or n1 > 10 :\n",
        "  n1 = int(input('Digite um número entre 1 e 10: '))\n",
        " \n",
        "cont = 1 \n",
        "while cont <= 10 :\n",
        "   print(f'{n1} x {cont:2} = ', n1 * cont)\n",
        "   cont += 1"
      ],
      "execution_count": null,
      "outputs": []
    },
    {
      "cell_type": "code",
      "metadata": {
        "id": "9s88r4W3IRMF"
      },
      "source": [
        "#Exercício 7: Faça um programa que leia 5 idades e mostre na tela a média das idades lidas.\n",
        "\n",
        "cont = 1\n",
        "total = 0\n",
        "\n",
        "while cont <= 5 :\n",
        "  idade = int(input('Digite sua idade : ')) \n",
        "  if idade <= 0 :\n",
        "   idade = int(input('Erro ! Digite um número válido: '))\n",
        "  total += idade\n",
        "  cont += 1\n",
        "\n",
        "media_idade = total / 5   \n",
        "print(media_idade)"
      ],
      "execution_count": null,
      "outputs": []
    },
    {
      "cell_type": "code",
      "metadata": {
        "id": "TtJMTiumrigc"
      },
      "source": [
        "#Conclusão Exercício 7: \n",
        "'''\n",
        "cont = 1 e vai até 5\n",
        "ler uma idade válida (idade tem que ser maior que 0 e menor que 120)\n",
        "soma das idades / 5\n",
        "cont = 1\n",
        "cont += 10\n",
        "soma == 0\n",
        "soma_idade += idade\n",
        "media = soma_idade / 5\n",
        "'''\n",
        "cont = 1\n",
        "soma_idade = 0\n",
        "while cont <= 5 : \n",
        "  idade = int(input('Digite uma idade: '))\n",
        "  while idade <= 0 or idade > 120 :\n",
        "    idade = int(input('Idade inválida! Digite uma idade entre 1 e 120: '))\n",
        "\n",
        "  soma_idade += idade\n",
        "  cont += 1\n",
        "media = soma_idade / 5\n",
        "print(f'A media de todas as idades digitadas é: {media}')\n"
      ],
      "execution_count": null,
      "outputs": []
    },
    {
      "cell_type": "code",
      "metadata": {
        "id": "Fi3awXKoIwhj"
      },
      "source": [
        "#Exercício 8: Ler 10 números e informar na tela quantos números pares foram digitados e quantos números ímpares foram digitados.\n",
        "\n",
        "cont = 1\n",
        "num1 = 1\n",
        "while cont <= 10 :\n",
        "  num1 = int(input('Digite um número '))\n",
        "  if num1 % 2 == 0 :\n",
        "    print('')\n",
        "  elif num1 % 2 == 1 :\n",
        "    print('')\n",
        "cont += 1"
      ],
      "execution_count": null,
      "outputs": []
    },
    {
      "cell_type": "code",
      "metadata": {
        "id": "xmHHHNm6xPsE"
      },
      "source": [
        "#Revisão Exercício 8: \n",
        "\n",
        "''' \n",
        "  somaPar = 0\n",
        "\n",
        "  somaImpar = 0\n",
        "'''\n",
        "\n",
        "somaPar = 0\n",
        "somaImpar = 0\n",
        "cont = 1\n",
        "\n",
        "while cont <= 10 :\n",
        "  num1 = int(input('Digite um número: '))\n",
        "  if num1 % 2 == 0:\n",
        "    somaPar += 1\n",
        "  else :\n",
        "      somaImpar += 1\n",
        "  cont += 1\n",
        "print(f'A quantidade de números pares lidos foi {somaPar} !')\n",
        "print(f'A quantidade de números impares lidos foi {somaImpar} !')"
      ],
      "execution_count": null,
      "outputs": []
    },
    {
      "cell_type": "code",
      "metadata": {
        "id": "aVDnWzzWzKJ4"
      },
      "source": [
        "#Exercício 9: Faça um programa que leia 3 notas (de 0 a 10) e informe na tela a média das notas lidas.\n",
        "\n",
        "cont = 1\n",
        "soma_nota = 0\n",
        "while cont <= 3 :\n",
        "  nota1 = float(input('Digite 3 notas de 0 a 10: '))\n",
        "  while nota1 < 0 or nota1 > 10 :\n",
        "    nota1 = float(input('Erro ! Digite números entre 0 e 10: '))\n",
        "  \n",
        "  soma_nota += nota1 \n",
        "  cont += 1\n",
        "mediaf = soma_nota / 3\n",
        "print(f'A média das notas é de: {mediaf:.1f}')\n"
      ],
      "execution_count": null,
      "outputs": []
    },
    {
      "cell_type": "code",
      "metadata": {
        "id": "QSVo_thD1PkN"
      },
      "source": [
        "#Exercício 10: Foi feita uma pesquisa entre os habitantes de uma região. Foram coletados os dados de idade,sexo (M/F) e salário. Faça um programa que calcule e mostre:\n",
        "\n",
        "#a) A média dos salários do grupo; \n",
        "\n",
        "\n",
        "#b) A maior e a menor idade do grupo;\n",
        "x\n",
        "#c) A quantidade de mulheres na região;\n",
        "#d) A idade e o sexo da pessoa que possui o menor salário;\n",
        "\n",
        "#Finalize a entrada de dados ao ser digitada uma idade negativa.\n"
      ],
      "execution_count": null,
      "outputs": []
    }
  ]
}