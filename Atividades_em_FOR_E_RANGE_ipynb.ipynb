{
  "nbformat": 4,
  "nbformat_minor": 0,
  "metadata": {
    "colab": {
      "name": "Atividades em FOR E RANGE - ipynb",
      "provenance": [],
      "authorship_tag": "ABX9TyMr/NgT85ga7VhchwhXEM+A",
      "include_colab_link": true
    },
    "kernelspec": {
      "name": "python3",
      "display_name": "Python 3"
    },
    "language_info": {
      "name": "python"
    }
  },
  "cells": [
    {
      "cell_type": "markdown",
      "metadata": {
        "id": "view-in-github",
        "colab_type": "text"
      },
      "source": [
        "<a href=\"https://colab.research.google.com/github/Eduardomathias09/Python-iniciante/blob/main/Atividades_em_FOR_E_RANGE_ipynb.ipynb\" target=\"_parent\"><img src=\"https://colab.research.google.com/assets/colab-badge.svg\" alt=\"Open In Colab\"/></a>"
      ]
    },
    {
      "cell_type": "code",
      "metadata": {
        "id": "uQHO07XpZYLQ",
        "colab": {
          "base_uri": "https://localhost:8080/"
        },
        "outputId": "d5e32ded-7141-4399-e1fb-1846d296d448"
      },
      "source": [
        "\n",
        "#Exercício 1:\n",
        "\n",
        "for cont in range(250, 119, -1) :\n",
        "  print(cont)"
      ],
      "execution_count": 1,
      "outputs": [
        {
          "output_type": "stream",
          "name": "stdout",
          "text": [
            "250\n",
            "249\n",
            "248\n",
            "247\n",
            "246\n",
            "245\n",
            "244\n",
            "243\n",
            "242\n",
            "241\n",
            "240\n",
            "239\n",
            "238\n",
            "237\n",
            "236\n",
            "235\n",
            "234\n",
            "233\n",
            "232\n",
            "231\n",
            "230\n",
            "229\n",
            "228\n",
            "227\n",
            "226\n",
            "225\n",
            "224\n",
            "223\n",
            "222\n",
            "221\n",
            "220\n",
            "219\n",
            "218\n",
            "217\n",
            "216\n",
            "215\n",
            "214\n",
            "213\n",
            "212\n",
            "211\n",
            "210\n",
            "209\n",
            "208\n",
            "207\n",
            "206\n",
            "205\n",
            "204\n",
            "203\n",
            "202\n",
            "201\n",
            "200\n",
            "199\n",
            "198\n",
            "197\n",
            "196\n",
            "195\n",
            "194\n",
            "193\n",
            "192\n",
            "191\n",
            "190\n",
            "189\n",
            "188\n",
            "187\n",
            "186\n",
            "185\n",
            "184\n",
            "183\n",
            "182\n",
            "181\n",
            "180\n",
            "179\n",
            "178\n",
            "177\n",
            "176\n",
            "175\n",
            "174\n",
            "173\n",
            "172\n",
            "171\n",
            "170\n",
            "169\n",
            "168\n",
            "167\n",
            "166\n",
            "165\n",
            "164\n",
            "163\n",
            "162\n",
            "161\n",
            "160\n",
            "159\n",
            "158\n",
            "157\n",
            "156\n",
            "155\n",
            "154\n",
            "153\n",
            "152\n",
            "151\n",
            "150\n",
            "149\n",
            "148\n",
            "147\n",
            "146\n",
            "145\n",
            "144\n",
            "143\n",
            "142\n",
            "141\n",
            "140\n",
            "139\n",
            "138\n",
            "137\n",
            "136\n",
            "135\n",
            "134\n",
            "133\n",
            "132\n",
            "131\n",
            "130\n",
            "129\n",
            "128\n",
            "127\n",
            "126\n",
            "125\n",
            "124\n",
            "123\n",
            "122\n",
            "121\n",
            "120\n"
          ]
        }
      ]
    },
    {
      "cell_type": "code",
      "metadata": {
        "id": "-oG_5qf6jqv_",
        "colab": {
          "base_uri": "https://localhost:8080/"
        },
        "outputId": "2b4b8948-b26c-4dce-c1c8-e2997daafd95"
      },
      "source": [
        "#Exercício 2: \n",
        "qtd_fora = 0\n",
        "qtd_dentro = 0\n",
        "for cont in range(10):\n",
        "  num = int(input('Digite um número: '))\n",
        "\n",
        "  if num >= 10 and num <= 20:\n",
        "    qtd_dentro += 1\n",
        "  else:\n",
        "    qtd_fora += 1\n",
        "print(f'A quantidade de números digitados dentro do intervalo [10, 20] foi: {qtd_dentro}')\n",
        "print(f'A quantidade de números digitados fora do intervalo [10, 20] foi: {qtd_fora}')"
      ],
      "execution_count": 4,
      "outputs": [
        {
          "output_type": "stream",
          "name": "stdout",
          "text": [
            "Digite um número: 15\n",
            "Digite um número: 30\n",
            "Digite um número: 25\n",
            "Digite um número: 10\n",
            "Digite um número: 12\n",
            "Digite um número: 14\n",
            "Digite um número: 15\n",
            "Digite um número: 15\n",
            "Digite um número: 14\n",
            "Digite um número: 14\n",
            "A quantidade de números digitados dentro do intervalo [10, 20] foi: 8\n",
            "A quantidade de números digitados fora do intervalo [10, 20] foi: 2\n"
          ]
        }
      ]
    },
    {
      "cell_type": "code",
      "metadata": {
        "id": "gsAZhW25mOKl",
        "colab": {
          "base_uri": "https://localhost:8080/"
        },
        "outputId": "97b7480a-6352-4f12-ca15-83334b5b7291"
      },
      "source": [
        "#Exercício 3:\n",
        "soma_alturas = 0\n",
        "\n",
        "numero = int(input('Digite o número de jogadores do seu time: '))\n",
        "while numero < 0:\n",
        "  numero = int(input('Erro! A quantidade de jogares precisar ser positiva! Tente novamente: '))\n",
        "\n",
        "for cont in range(numero):\n",
        "  altura = float(input('Digite a altura: '))\n",
        "  \n",
        "  while altura < 1 or altura > 3 :\n",
        "    altura = float(input('Erro ! Digite uma altura entre 1m e 3m: '))\n",
        "  \n",
        "  soma_alturas += altura\n",
        "media_alturas = soma_alturas / numero \n",
        "print(f'A altura média do time é de: {media_alturas:.2f} !')\n"
      ],
      "execution_count": 8,
      "outputs": [
        {
          "output_type": "stream",
          "name": "stdout",
          "text": [
            "Digite o número de jogadores do seu time: 5\n",
            "Digite a altura: 2.10\n",
            "Digite a altura: 1.95\n",
            "Digite a altura: 1.96\n",
            "Digite a altura: 1.76\n",
            "Digite a altura: 1.85\n",
            "A altura média do time é de: 1.92 !\n"
          ]
        }
      ]
    },
    {
      "cell_type": "code",
      "metadata": {
        "id": "3gnIgeU8od_t",
        "colab": {
          "base_uri": "https://localhost:8080/"
        },
        "outputId": "03e7ae96-8b8c-449f-913a-5725dca5caee"
      },
      "source": [
        "#Exercício 4: \n",
        "somaNumeros = 0\n",
        "numero = int(input('Digite a quantidade de números a serem lidos: '))\n",
        "while numero < 0:\n",
        "  numero = int(input('Erro! A quantidade de números precisar ser positiva! Tente novamente: '))\n",
        "\n",
        "for cont in range(numero) : \n",
        "  num = int(input('Digite o número: '))\n",
        "  somaNumeros += num \n",
        "\n",
        "media_numeros = somaNumeros / numero\n",
        "\n",
        "print(f'A soma dos números lidos foi {somaNumeros} e a média foi {media_numeros:.2f}')"
      ],
      "execution_count": 16,
      "outputs": [
        {
          "output_type": "stream",
          "name": "stdout",
          "text": [
            "Digite a quantidade de números a serem lidos: 3\n",
            "Digite o número: 2\n",
            "Digite o número: 5\n",
            "Digite o número: 7\n",
            "A soma dos números lidos foi 14 e a média foi 4.67\n"
          ]
        }
      ]
    },
    {
      "cell_type": "code",
      "metadata": {
        "id": "sJwx2bg6s6oQ",
        "colab": {
          "base_uri": "https://localhost:8080/"
        },
        "outputId": "7107a7c0-8980-469b-d362-da7841ac306c"
      },
      "source": [
        "#Exercício 5:\n",
        "\n",
        "for contador in range(5, 101):\n",
        "  if contador % 7 == 0 and contador % 5 != 0:\n",
        "    print(contador)"
      ],
      "execution_count": 17,
      "outputs": [
        {
          "output_type": "stream",
          "name": "stdout",
          "text": [
            "7\n",
            "14\n",
            "21\n",
            "28\n",
            "42\n",
            "49\n",
            "56\n",
            "63\n",
            "77\n",
            "84\n",
            "91\n",
            "98\n"
          ]
        }
      ]
    },
    {
      "cell_type": "code",
      "metadata": {
        "id": "qDr2NjOQNJPv",
        "colab": {
          "base_uri": "https://localhost:8080/"
        },
        "outputId": "613559c7-73cd-4db5-db2f-5b6411613223"
      },
      "source": [
        "#Exercício 6:\n",
        "soma = 0\n",
        "n = int(input('Digite um número: '))\n",
        "while n < 1:\n",
        "  n = int(input('Erro! Digite um número positivo: '))\n",
        "\n",
        "for cont in range(1, n + 1):\n",
        "  soma += cont \n",
        "  \n",
        "\n",
        "print(f'A soma dos números de 1 até {n} é {soma}')\n"
      ],
      "execution_count": 19,
      "outputs": [
        {
          "output_type": "stream",
          "name": "stdout",
          "text": [
            "Digite um número: 15\n",
            "A soma dos números de 1 até 15 é 120\n"
          ]
        }
      ]
    },
    {
      "cell_type": "code",
      "metadata": {
        "id": "YCBpI5YtP9Hg",
        "colab": {
          "base_uri": "https://localhost:8080/"
        },
        "outputId": "acce8407-c3a8-4eed-9684-634fdabe7d94"
      },
      "source": [
        "#Exercício 7:\n",
        "\n",
        "n = int(input('Digite o número que quer encontrar o fatorial: '))\n",
        "while n < 0 :\n",
        "  n = int(input('Erro! Digite um número positivo: '))\n",
        "\n",
        "cont = 0\n",
        "fat = 1\n",
        "for cont in range(n, 0, -1):\n",
        "  fat *= cont\n",
        "  print(f'O fatorial de {n} é igual a {fat}')\n",
        "  "
      ],
      "execution_count": 22,
      "outputs": [
        {
          "output_type": "stream",
          "name": "stdout",
          "text": [
            "Digite o número que quer encontrar o fatorial: 5\n",
            "O fatorial de 5 é igual a 5\n",
            "O fatorial de 5 é igual a 20\n",
            "O fatorial de 5 é igual a 60\n",
            "O fatorial de 5 é igual a 120\n",
            "O fatorial de 5 é igual a 120\n"
          ]
        }
      ]
    },
    {
      "cell_type": "code",
      "metadata": {
        "id": "tG1SsrMdWPOh",
        "colab": {
          "base_uri": "https://localhost:8080/"
        },
        "outputId": "75901125-86a5-4e10-d121-9fcc53a60d10"
      },
      "source": [
        "#Exercício 8:\n",
        "\n",
        "n = int(input('Digite um número e descubra se é um número primo: '))\n",
        "tot = 0\n",
        "\n",
        "for cont in range(1, n + 1):\n",
        "    if n % cont == 0:\n",
        "      tot += 1 \n",
        "\n",
        "if tot == 2 :\n",
        "\n",
        "    print(f'O número {n} é um número PRIMO !')\n",
        "\n",
        "else:\n",
        "    print(f'O número {n} não é um número PRIMO ! ')\n",
        "  "
      ],
      "execution_count": 23,
      "outputs": [
        {
          "output_type": "stream",
          "name": "stdout",
          "text": [
            "Digite um número e descubra se é um número primo: 15\n",
            "O número 15 não é um número PRIMO ! \n"
          ]
        }
      ]
    },
    {
      "cell_type": "code",
      "metadata": {
        "id": "SMD_sK7dd-ay",
        "colab": {
          "base_uri": "https://localhost:8080/"
        },
        "outputId": "cafc00f6-0296-4253-f994-c26edbbc86e8"
      },
      "source": [
        "#Exercício 9: \n",
        "\n",
        "base = int(input('Digite o número da base: '))\n",
        "expoente = int(input('Digite o valor do expoente: '))\n",
        "potencia = 1\n",
        "\n",
        "for cont in range(expoente) :\n",
        "  potencia *= base\n",
        "\n",
        "print(f'O valor de {base} elevado a {expoente} é igual a {potencia}')"
      ],
      "execution_count": null,
      "outputs": [
        {
          "output_type": "stream",
          "name": "stdout",
          "text": [
            "Digite o número da base: 5\n",
            "Digite o valor do expoente: 2\n",
            "O valor de 5 elevado a 2 é igual a 25\n"
          ]
        }
      ]
    }
  ]
}