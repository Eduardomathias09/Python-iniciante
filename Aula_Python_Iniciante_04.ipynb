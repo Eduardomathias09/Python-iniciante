{
  "nbformat": 4,
  "nbformat_minor": 0,
  "metadata": {
    "colab": {
      "name": "Aula-Python-Iniciante-04.ipynb",
      "provenance": [],
      "collapsed_sections": [],
      "authorship_tag": "ABX9TyM/n9bUwMpkzEkQTcmLJGcB",
      "include_colab_link": true
    },
    "kernelspec": {
      "name": "python3",
      "display_name": "Python 3"
    },
    "language_info": {
      "name": "python"
    }
  },
  "cells": [
    {
      "cell_type": "markdown",
      "metadata": {
        "id": "view-in-github",
        "colab_type": "text"
      },
      "source": [
        "<a href=\"https://colab.research.google.com/github/Eduardomathias09/Python-iniciante/blob/main/Aula_Python_Iniciante_04.ipynb\" target=\"_parent\"><img src=\"https://colab.research.google.com/assets/colab-badge.svg\" alt=\"Open In Colab\"/></a>"
      ]
    },
    {
      "cell_type": "code",
      "metadata": {
        "colab": {
          "base_uri": "https://localhost:8080/"
        },
        "id": "eOpnMHjOqR-E",
        "outputId": "c5eb5507-a203-4c98-ca38-0693703bbbcf"
      },
      "source": [
        "numero = 123\n",
        "\n",
        "a = numero // 100\n",
        "print(a)\n",
        "\n",
        "c = numero % 10\n",
        "print(c)\n",
        "\n",
        "b = numero % 100\n",
        "print(b)\n",
        "\n",
        "b = b // 10\n",
        "print(b)\n",
        "\n",
        "numero = (c * 100) + (b * 10) + a\n",
        "print(numero)"
      ],
      "execution_count": 1,
      "outputs": [
        {
          "output_type": "stream",
          "name": "stdout",
          "text": [
            "1\n",
            "3\n",
            "23\n",
            "2\n",
            "321\n"
          ]
        }
      ]
    },
    {
      "cell_type": "code",
      "metadata": {
        "colab": {
          "base_uri": "https://localhost:8080/"
        },
        "id": "b-KlzXa-tPu9",
        "outputId": "119baa8e-fbc1-4b0b-9588-c15844da8254"
      },
      "source": [
        "numero = int(input('Digite um numero: '))\n",
        "print(f'Você digitou {numero} e invertendo temos: {numero % 10}{(numero%100)//10}{numero//100}')\n"
      ],
      "execution_count": 12,
      "outputs": [
        {
          "output_type": "stream",
          "name": "stdout",
          "text": [
            "Digite um numero: 500\n",
            "Você digitou 500 e invertendo temos: 005\n"
          ]
        }
      ]
    }
  ]
}